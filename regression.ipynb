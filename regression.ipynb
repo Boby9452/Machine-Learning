{
  "nbformat": 4,
  "nbformat_minor": 0,
  "metadata": {
    "colab": {
      "provenance": []
    },
    "kernelspec": {
      "name": "python3",
      "display_name": "Python 3"
    },
    "language_info": {
      "name": "python"
    }
  },
  "cells": [
    {
      "cell_type": "code",
      "execution_count": 1,
      "metadata": {
        "colab": {
          "base_uri": "https://localhost:8080/"
        },
        "id": "yi8N5jZZBS9n",
        "outputId": "3d498b1f-4e37-4054-c967-fe97ff608265"
      },
      "outputs": [
        {
          "output_type": "stream",
          "name": "stdout",
          "text": [
            "     age  sex  cp  trtbps  chol  fbs  restecg  thalachh  exng  oldpeak  slp  \\\n",
            "0     63    1   3     145   233    1        0       150     0      2.3    0   \n",
            "1     37    1   2     130   250    0        1       187     0      3.5    0   \n",
            "2     41    0   1     130   204    0        0       172     0      1.4    2   \n",
            "3     56    1   1     120   236    0        1       178     0      0.8    2   \n",
            "4     57    0   0     120   354    0        1       163     1      0.6    2   \n",
            "..   ...  ...  ..     ...   ...  ...      ...       ...   ...      ...  ...   \n",
            "298   57    0   0     140   241    0        1       123     1      0.2    1   \n",
            "299   45    1   3     110   264    0        1       132     0      1.2    1   \n",
            "300   68    1   0     144   193    1        1       141     0      3.4    1   \n",
            "301   57    1   0     130   131    0        1       115     1      1.2    1   \n",
            "302   57    0   1     130   236    0        0       174     0      0.0    1   \n",
            "\n",
            "     caa  thall  output  \n",
            "0      0      1       1  \n",
            "1      0      2       1  \n",
            "2      0      2       1  \n",
            "3      0      2       1  \n",
            "4      0      2       1  \n",
            "..   ...    ...     ...  \n",
            "298    0      3       0  \n",
            "299    0      3       0  \n",
            "300    2      3       0  \n",
            "301    1      3       0  \n",
            "302    1      2       0  \n",
            "\n",
            "[303 rows x 14 columns]\n"
          ]
        }
      ],
      "source": [
        "import pandas as pd\n",
        "data=pd.read_csv(\"/content/heart.csv\")\n",
        "print(data)"
      ]
    },
    {
      "cell_type": "code",
      "source": [
        "dummies=pd.get_dummies(data.age)\n",
        "print(dummies)"
      ],
      "metadata": {
        "colab": {
          "base_uri": "https://localhost:8080/"
        },
        "id": "2bbfOiQaB73Q",
        "outputId": "af96c8ef-1d25-4561-c88d-0216e187ea9d"
      },
      "execution_count": 4,
      "outputs": [
        {
          "output_type": "stream",
          "name": "stdout",
          "text": [
            "     29  34  35  37  38  39  40  41  42  43  ...  65  66  67  68  69  70  71  \\\n",
            "0     0   0   0   0   0   0   0   0   0   0  ...   0   0   0   0   0   0   0   \n",
            "1     0   0   0   1   0   0   0   0   0   0  ...   0   0   0   0   0   0   0   \n",
            "2     0   0   0   0   0   0   0   1   0   0  ...   0   0   0   0   0   0   0   \n",
            "3     0   0   0   0   0   0   0   0   0   0  ...   0   0   0   0   0   0   0   \n",
            "4     0   0   0   0   0   0   0   0   0   0  ...   0   0   0   0   0   0   0   \n",
            "..   ..  ..  ..  ..  ..  ..  ..  ..  ..  ..  ...  ..  ..  ..  ..  ..  ..  ..   \n",
            "298   0   0   0   0   0   0   0   0   0   0  ...   0   0   0   0   0   0   0   \n",
            "299   0   0   0   0   0   0   0   0   0   0  ...   0   0   0   0   0   0   0   \n",
            "300   0   0   0   0   0   0   0   0   0   0  ...   0   0   0   1   0   0   0   \n",
            "301   0   0   0   0   0   0   0   0   0   0  ...   0   0   0   0   0   0   0   \n",
            "302   0   0   0   0   0   0   0   0   0   0  ...   0   0   0   0   0   0   0   \n",
            "\n",
            "     74  76  77  \n",
            "0     0   0   0  \n",
            "1     0   0   0  \n",
            "2     0   0   0  \n",
            "3     0   0   0  \n",
            "4     0   0   0  \n",
            "..   ..  ..  ..  \n",
            "298   0   0   0  \n",
            "299   0   0   0  \n",
            "300   0   0   0  \n",
            "301   0   0   0  \n",
            "302   0   0   0  \n",
            "\n",
            "[303 rows x 41 columns]\n"
          ]
        }
      ]
    },
    {
      "cell_type": "code",
      "source": [
        "merge=pd.concat([data,dummies],axis='columns')\n",
        "print(merge)"
      ],
      "metadata": {
        "colab": {
          "base_uri": "https://localhost:8080/"
        },
        "id": "3QPbMKV2Cq58",
        "outputId": "25ed5dc3-1b57-42ac-89ab-6658174b1ac9"
      },
      "execution_count": 9,
      "outputs": [
        {
          "output_type": "stream",
          "name": "stdout",
          "text": [
            "     age  sex  cp  trtbps  chol  fbs  restecg  thalachh  exng  oldpeak  ...  \\\n",
            "0     63    1   3     145   233    1        0       150     0      2.3  ...   \n",
            "1     37    1   2     130   250    0        1       187     0      3.5  ...   \n",
            "2     41    0   1     130   204    0        0       172     0      1.4  ...   \n",
            "3     56    1   1     120   236    0        1       178     0      0.8  ...   \n",
            "4     57    0   0     120   354    0        1       163     1      0.6  ...   \n",
            "..   ...  ...  ..     ...   ...  ...      ...       ...   ...      ...  ...   \n",
            "298   57    0   0     140   241    0        1       123     1      0.2  ...   \n",
            "299   45    1   3     110   264    0        1       132     0      1.2  ...   \n",
            "300   68    1   0     144   193    1        1       141     0      3.4  ...   \n",
            "301   57    1   0     130   131    0        1       115     1      1.2  ...   \n",
            "302   57    0   1     130   236    0        0       174     0      0.0  ...   \n",
            "\n",
            "     65  66  67  68  69  70  71  74  76  77  \n",
            "0     0   0   0   0   0   0   0   0   0   0  \n",
            "1     0   0   0   0   0   0   0   0   0   0  \n",
            "2     0   0   0   0   0   0   0   0   0   0  \n",
            "3     0   0   0   0   0   0   0   0   0   0  \n",
            "4     0   0   0   0   0   0   0   0   0   0  \n",
            "..   ..  ..  ..  ..  ..  ..  ..  ..  ..  ..  \n",
            "298   0   0   0   0   0   0   0   0   0   0  \n",
            "299   0   0   0   0   0   0   0   0   0   0  \n",
            "300   0   0   0   1   0   0   0   0   0   0  \n",
            "301   0   0   0   0   0   0   0   0   0   0  \n",
            "302   0   0   0   0   0   0   0   0   0   0  \n",
            "\n",
            "[303 rows x 55 columns]\n"
          ]
        }
      ]
    },
    {
      "cell_type": "code",
      "source": [
        "final=merge.drop(['age'],axis='columns')\n",
        "print(final)"
      ],
      "metadata": {
        "colab": {
          "base_uri": "https://localhost:8080/"
        },
        "id": "8Sc5T6zEC4mi",
        "outputId": "b7a60164-463b-4a15-8a3c-2c686e6f10e4"
      },
      "execution_count": 10,
      "outputs": [
        {
          "output_type": "stream",
          "name": "stdout",
          "text": [
            "     sex  cp  trtbps  chol  fbs  restecg  thalachh  exng  oldpeak  slp  ...  \\\n",
            "0      1   3     145   233    1        0       150     0      2.3    0  ...   \n",
            "1      1   2     130   250    0        1       187     0      3.5    0  ...   \n",
            "2      0   1     130   204    0        0       172     0      1.4    2  ...   \n",
            "3      1   1     120   236    0        1       178     0      0.8    2  ...   \n",
            "4      0   0     120   354    0        1       163     1      0.6    2  ...   \n",
            "..   ...  ..     ...   ...  ...      ...       ...   ...      ...  ...  ...   \n",
            "298    0   0     140   241    0        1       123     1      0.2    1  ...   \n",
            "299    1   3     110   264    0        1       132     0      1.2    1  ...   \n",
            "300    1   0     144   193    1        1       141     0      3.4    1  ...   \n",
            "301    1   0     130   131    0        1       115     1      1.2    1  ...   \n",
            "302    0   1     130   236    0        0       174     0      0.0    1  ...   \n",
            "\n",
            "     65  66  67  68  69  70  71  74  76  77  \n",
            "0     0   0   0   0   0   0   0   0   0   0  \n",
            "1     0   0   0   0   0   0   0   0   0   0  \n",
            "2     0   0   0   0   0   0   0   0   0   0  \n",
            "3     0   0   0   0   0   0   0   0   0   0  \n",
            "4     0   0   0   0   0   0   0   0   0   0  \n",
            "..   ..  ..  ..  ..  ..  ..  ..  ..  ..  ..  \n",
            "298   0   0   0   0   0   0   0   0   0   0  \n",
            "299   0   0   0   0   0   0   0   0   0   0  \n",
            "300   0   0   0   1   0   0   0   0   0   0  \n",
            "301   0   0   0   0   0   0   0   0   0   0  \n",
            "302   0   0   0   0   0   0   0   0   0   0  \n",
            "\n",
            "[303 rows x 54 columns]\n"
          ]
        }
      ]
    },
    {
      "cell_type": "code",
      "source": [
        "data.head()"
      ],
      "metadata": {
        "colab": {
          "base_uri": "https://localhost:8080/",
          "height": 206
        },
        "id": "dGLv0sSrIFNS",
        "outputId": "18757956-796c-410d-9547-c7b235a678a5"
      },
      "execution_count": 11,
      "outputs": [
        {
          "output_type": "execute_result",
          "data": {
            "text/plain": [
              "   age  sex  cp  trtbps  chol  fbs  restecg  thalachh  exng  oldpeak  slp  \\\n",
              "0   63    1   3     145   233    1        0       150     0      2.3    0   \n",
              "1   37    1   2     130   250    0        1       187     0      3.5    0   \n",
              "2   41    0   1     130   204    0        0       172     0      1.4    2   \n",
              "3   56    1   1     120   236    0        1       178     0      0.8    2   \n",
              "4   57    0   0     120   354    0        1       163     1      0.6    2   \n",
              "\n",
              "   caa  thall  output  \n",
              "0    0      1       1  \n",
              "1    0      2       1  \n",
              "2    0      2       1  \n",
              "3    0      2       1  \n",
              "4    0      2       1  "
            ],
            "text/html": [
              "\n",
              "  <div id=\"df-77cb0fa2-7111-44c7-bcbc-43c349f061b8\">\n",
              "    <div class=\"colab-df-container\">\n",
              "      <div>\n",
              "<style scoped>\n",
              "    .dataframe tbody tr th:only-of-type {\n",
              "        vertical-align: middle;\n",
              "    }\n",
              "\n",
              "    .dataframe tbody tr th {\n",
              "        vertical-align: top;\n",
              "    }\n",
              "\n",
              "    .dataframe thead th {\n",
              "        text-align: right;\n",
              "    }\n",
              "</style>\n",
              "<table border=\"1\" class=\"dataframe\">\n",
              "  <thead>\n",
              "    <tr style=\"text-align: right;\">\n",
              "      <th></th>\n",
              "      <th>age</th>\n",
              "      <th>sex</th>\n",
              "      <th>cp</th>\n",
              "      <th>trtbps</th>\n",
              "      <th>chol</th>\n",
              "      <th>fbs</th>\n",
              "      <th>restecg</th>\n",
              "      <th>thalachh</th>\n",
              "      <th>exng</th>\n",
              "      <th>oldpeak</th>\n",
              "      <th>slp</th>\n",
              "      <th>caa</th>\n",
              "      <th>thall</th>\n",
              "      <th>output</th>\n",
              "    </tr>\n",
              "  </thead>\n",
              "  <tbody>\n",
              "    <tr>\n",
              "      <th>0</th>\n",
              "      <td>63</td>\n",
              "      <td>1</td>\n",
              "      <td>3</td>\n",
              "      <td>145</td>\n",
              "      <td>233</td>\n",
              "      <td>1</td>\n",
              "      <td>0</td>\n",
              "      <td>150</td>\n",
              "      <td>0</td>\n",
              "      <td>2.3</td>\n",
              "      <td>0</td>\n",
              "      <td>0</td>\n",
              "      <td>1</td>\n",
              "      <td>1</td>\n",
              "    </tr>\n",
              "    <tr>\n",
              "      <th>1</th>\n",
              "      <td>37</td>\n",
              "      <td>1</td>\n",
              "      <td>2</td>\n",
              "      <td>130</td>\n",
              "      <td>250</td>\n",
              "      <td>0</td>\n",
              "      <td>1</td>\n",
              "      <td>187</td>\n",
              "      <td>0</td>\n",
              "      <td>3.5</td>\n",
              "      <td>0</td>\n",
              "      <td>0</td>\n",
              "      <td>2</td>\n",
              "      <td>1</td>\n",
              "    </tr>\n",
              "    <tr>\n",
              "      <th>2</th>\n",
              "      <td>41</td>\n",
              "      <td>0</td>\n",
              "      <td>1</td>\n",
              "      <td>130</td>\n",
              "      <td>204</td>\n",
              "      <td>0</td>\n",
              "      <td>0</td>\n",
              "      <td>172</td>\n",
              "      <td>0</td>\n",
              "      <td>1.4</td>\n",
              "      <td>2</td>\n",
              "      <td>0</td>\n",
              "      <td>2</td>\n",
              "      <td>1</td>\n",
              "    </tr>\n",
              "    <tr>\n",
              "      <th>3</th>\n",
              "      <td>56</td>\n",
              "      <td>1</td>\n",
              "      <td>1</td>\n",
              "      <td>120</td>\n",
              "      <td>236</td>\n",
              "      <td>0</td>\n",
              "      <td>1</td>\n",
              "      <td>178</td>\n",
              "      <td>0</td>\n",
              "      <td>0.8</td>\n",
              "      <td>2</td>\n",
              "      <td>0</td>\n",
              "      <td>2</td>\n",
              "      <td>1</td>\n",
              "    </tr>\n",
              "    <tr>\n",
              "      <th>4</th>\n",
              "      <td>57</td>\n",
              "      <td>0</td>\n",
              "      <td>0</td>\n",
              "      <td>120</td>\n",
              "      <td>354</td>\n",
              "      <td>0</td>\n",
              "      <td>1</td>\n",
              "      <td>163</td>\n",
              "      <td>1</td>\n",
              "      <td>0.6</td>\n",
              "      <td>2</td>\n",
              "      <td>0</td>\n",
              "      <td>2</td>\n",
              "      <td>1</td>\n",
              "    </tr>\n",
              "  </tbody>\n",
              "</table>\n",
              "</div>\n",
              "      <button class=\"colab-df-convert\" onclick=\"convertToInteractive('df-77cb0fa2-7111-44c7-bcbc-43c349f061b8')\"\n",
              "              title=\"Convert this dataframe to an interactive table.\"\n",
              "              style=\"display:none;\">\n",
              "        \n",
              "  <svg xmlns=\"http://www.w3.org/2000/svg\" height=\"24px\"viewBox=\"0 0 24 24\"\n",
              "       width=\"24px\">\n",
              "    <path d=\"M0 0h24v24H0V0z\" fill=\"none\"/>\n",
              "    <path d=\"M18.56 5.44l.94 2.06.94-2.06 2.06-.94-2.06-.94-.94-2.06-.94 2.06-2.06.94zm-11 1L8.5 8.5l.94-2.06 2.06-.94-2.06-.94L8.5 2.5l-.94 2.06-2.06.94zm10 10l.94 2.06.94-2.06 2.06-.94-2.06-.94-.94-2.06-.94 2.06-2.06.94z\"/><path d=\"M17.41 7.96l-1.37-1.37c-.4-.4-.92-.59-1.43-.59-.52 0-1.04.2-1.43.59L10.3 9.45l-7.72 7.72c-.78.78-.78 2.05 0 2.83L4 21.41c.39.39.9.59 1.41.59.51 0 1.02-.2 1.41-.59l7.78-7.78 2.81-2.81c.8-.78.8-2.07 0-2.86zM5.41 20L4 18.59l7.72-7.72 1.47 1.35L5.41 20z\"/>\n",
              "  </svg>\n",
              "      </button>\n",
              "      \n",
              "  <style>\n",
              "    .colab-df-container {\n",
              "      display:flex;\n",
              "      flex-wrap:wrap;\n",
              "      gap: 12px;\n",
              "    }\n",
              "\n",
              "    .colab-df-convert {\n",
              "      background-color: #E8F0FE;\n",
              "      border: none;\n",
              "      border-radius: 50%;\n",
              "      cursor: pointer;\n",
              "      display: none;\n",
              "      fill: #1967D2;\n",
              "      height: 32px;\n",
              "      padding: 0 0 0 0;\n",
              "      width: 32px;\n",
              "    }\n",
              "\n",
              "    .colab-df-convert:hover {\n",
              "      background-color: #E2EBFA;\n",
              "      box-shadow: 0px 1px 2px rgba(60, 64, 67, 0.3), 0px 1px 3px 1px rgba(60, 64, 67, 0.15);\n",
              "      fill: #174EA6;\n",
              "    }\n",
              "\n",
              "    [theme=dark] .colab-df-convert {\n",
              "      background-color: #3B4455;\n",
              "      fill: #D2E3FC;\n",
              "    }\n",
              "\n",
              "    [theme=dark] .colab-df-convert:hover {\n",
              "      background-color: #434B5C;\n",
              "      box-shadow: 0px 1px 3px 1px rgba(0, 0, 0, 0.15);\n",
              "      filter: drop-shadow(0px 1px 2px rgba(0, 0, 0, 0.3));\n",
              "      fill: #FFFFFF;\n",
              "    }\n",
              "  </style>\n",
              "\n",
              "      <script>\n",
              "        const buttonEl =\n",
              "          document.querySelector('#df-77cb0fa2-7111-44c7-bcbc-43c349f061b8 button.colab-df-convert');\n",
              "        buttonEl.style.display =\n",
              "          google.colab.kernel.accessAllowed ? 'block' : 'none';\n",
              "\n",
              "        async function convertToInteractive(key) {\n",
              "          const element = document.querySelector('#df-77cb0fa2-7111-44c7-bcbc-43c349f061b8');\n",
              "          const dataTable =\n",
              "            await google.colab.kernel.invokeFunction('convertToInteractive',\n",
              "                                                     [key], {});\n",
              "          if (!dataTable) return;\n",
              "\n",
              "          const docLinkHtml = 'Like what you see? Visit the ' +\n",
              "            '<a target=\"_blank\" href=https://colab.research.google.com/notebooks/data_table.ipynb>data table notebook</a>'\n",
              "            + ' to learn more about interactive tables.';\n",
              "          element.innerHTML = '';\n",
              "          dataTable['output_type'] = 'display_data';\n",
              "          await google.colab.output.renderOutput(dataTable, element);\n",
              "          const docLink = document.createElement('div');\n",
              "          docLink.innerHTML = docLinkHtml;\n",
              "          element.appendChild(docLink);\n",
              "        }\n",
              "      </script>\n",
              "    </div>\n",
              "  </div>\n",
              "  "
            ]
          },
          "metadata": {},
          "execution_count": 11
        }
      ]
    },
    {
      "cell_type": "code",
      "source": [
        "x=data.drop(['output'],axis='columns')\n",
        "y=data['output']"
      ],
      "metadata": {
        "id": "Lz55GpHIIQv1"
      },
      "execution_count": 12,
      "outputs": []
    },
    {
      "cell_type": "code",
      "source": [
        "from sklearn.model_selection import train_test_split\n",
        "x_train,x_test,y_train,y_test=train_test_split(x,y,test_size=0.2)\n"
      ],
      "metadata": {
        "id": "8cp3GEXUHnQI"
      },
      "execution_count": 13,
      "outputs": []
    },
    {
      "cell_type": "code",
      "source": [
        "from sklearn.linear_model import LinearRegression\n",
        "ln=LinearRegression()\n",
        "ln.fit(x_train,y_train)"
      ],
      "metadata": {
        "colab": {
          "base_uri": "https://localhost:8080/"
        },
        "id": "_SY2B8QLId8t",
        "outputId": "796feb4c-0969-49fa-ef51-d3ddb117865f"
      },
      "execution_count": 15,
      "outputs": [
        {
          "output_type": "execute_result",
          "data": {
            "text/plain": [
              "LinearRegression()"
            ]
          },
          "metadata": {},
          "execution_count": 15
        }
      ]
    },
    {
      "cell_type": "code",
      "source": [
        "prediction=ln.predict(x_test)\n",
        "print(prediction)"
      ],
      "metadata": {
        "colab": {
          "base_uri": "https://localhost:8080/"
        },
        "id": "Tz0Vt8NUJFtm",
        "outputId": "1841610d-c57f-4087-ff87-7df99dcff122"
      },
      "execution_count": 17,
      "outputs": [
        {
          "output_type": "stream",
          "name": "stdout",
          "text": [
            "[ 0.8688202   0.8554838   0.96217858  0.41527467  0.7580008   0.57634121\n",
            "  1.12120642  0.11514587  0.35142183  0.61226656  0.17878017  0.48987817\n",
            "  0.26105254  0.28018752 -0.13024817  0.59254256  0.52438759  0.74559438\n",
            " -0.35645502  0.78216379  0.54057121  0.56608892  0.6369692   0.65940716\n",
            " -0.04248222  0.76510551  0.61891631  0.59625862 -0.13970188  0.81222387\n",
            " -0.14263758  0.93939755  0.84837515  0.34146041  0.81592007  0.08495746\n",
            "  0.73525442  0.10007366  0.85251143  0.69887192  0.52554738  0.72928546\n",
            "  0.65793885 -0.0324342   1.06810074  0.34693707  0.4942666   0.3038292\n",
            "  0.55698216  0.35109878  0.05094407  0.85489455  0.63549766  0.74009365\n",
            "  0.06484748  0.72808188  0.52006631  0.19410074  0.76199926  0.10815708\n",
            "  0.92514662]\n"
          ]
        }
      ]
    },
    {
      "cell_type": "code",
      "source": [
        "ln.score(x,y)"
      ],
      "metadata": {
        "colab": {
          "base_uri": "https://localhost:8080/"
        },
        "id": "nRUG3YtgJRZW",
        "outputId": "b95febe2-1322-4ce0-fce6-a458c00ca50c"
      },
      "execution_count": 18,
      "outputs": [
        {
          "output_type": "execute_result",
          "data": {
            "text/plain": [
              "0.5119924883851696"
            ]
          },
          "metadata": {},
          "execution_count": 18
        }
      ]
    },
    {
      "cell_type": "code",
      "source": [
        "data.tail()"
      ],
      "metadata": {
        "colab": {
          "base_uri": "https://localhost:8080/",
          "height": 206
        },
        "id": "8klu5NudJ_QT",
        "outputId": "44de89c9-9fc3-4dcd-eca6-573b06a88bb3"
      },
      "execution_count": 19,
      "outputs": [
        {
          "output_type": "execute_result",
          "data": {
            "text/plain": [
              "     age  sex  cp  trtbps  chol  fbs  restecg  thalachh  exng  oldpeak  slp  \\\n",
              "298   57    0   0     140   241    0        1       123     1      0.2    1   \n",
              "299   45    1   3     110   264    0        1       132     0      1.2    1   \n",
              "300   68    1   0     144   193    1        1       141     0      3.4    1   \n",
              "301   57    1   0     130   131    0        1       115     1      1.2    1   \n",
              "302   57    0   1     130   236    0        0       174     0      0.0    1   \n",
              "\n",
              "     caa  thall  output  \n",
              "298    0      3       0  \n",
              "299    0      3       0  \n",
              "300    2      3       0  \n",
              "301    1      3       0  \n",
              "302    1      2       0  "
            ],
            "text/html": [
              "\n",
              "  <div id=\"df-ac709188-dd2b-47d0-8fb7-550d48c41ea8\">\n",
              "    <div class=\"colab-df-container\">\n",
              "      <div>\n",
              "<style scoped>\n",
              "    .dataframe tbody tr th:only-of-type {\n",
              "        vertical-align: middle;\n",
              "    }\n",
              "\n",
              "    .dataframe tbody tr th {\n",
              "        vertical-align: top;\n",
              "    }\n",
              "\n",
              "    .dataframe thead th {\n",
              "        text-align: right;\n",
              "    }\n",
              "</style>\n",
              "<table border=\"1\" class=\"dataframe\">\n",
              "  <thead>\n",
              "    <tr style=\"text-align: right;\">\n",
              "      <th></th>\n",
              "      <th>age</th>\n",
              "      <th>sex</th>\n",
              "      <th>cp</th>\n",
              "      <th>trtbps</th>\n",
              "      <th>chol</th>\n",
              "      <th>fbs</th>\n",
              "      <th>restecg</th>\n",
              "      <th>thalachh</th>\n",
              "      <th>exng</th>\n",
              "      <th>oldpeak</th>\n",
              "      <th>slp</th>\n",
              "      <th>caa</th>\n",
              "      <th>thall</th>\n",
              "      <th>output</th>\n",
              "    </tr>\n",
              "  </thead>\n",
              "  <tbody>\n",
              "    <tr>\n",
              "      <th>298</th>\n",
              "      <td>57</td>\n",
              "      <td>0</td>\n",
              "      <td>0</td>\n",
              "      <td>140</td>\n",
              "      <td>241</td>\n",
              "      <td>0</td>\n",
              "      <td>1</td>\n",
              "      <td>123</td>\n",
              "      <td>1</td>\n",
              "      <td>0.2</td>\n",
              "      <td>1</td>\n",
              "      <td>0</td>\n",
              "      <td>3</td>\n",
              "      <td>0</td>\n",
              "    </tr>\n",
              "    <tr>\n",
              "      <th>299</th>\n",
              "      <td>45</td>\n",
              "      <td>1</td>\n",
              "      <td>3</td>\n",
              "      <td>110</td>\n",
              "      <td>264</td>\n",
              "      <td>0</td>\n",
              "      <td>1</td>\n",
              "      <td>132</td>\n",
              "      <td>0</td>\n",
              "      <td>1.2</td>\n",
              "      <td>1</td>\n",
              "      <td>0</td>\n",
              "      <td>3</td>\n",
              "      <td>0</td>\n",
              "    </tr>\n",
              "    <tr>\n",
              "      <th>300</th>\n",
              "      <td>68</td>\n",
              "      <td>1</td>\n",
              "      <td>0</td>\n",
              "      <td>144</td>\n",
              "      <td>193</td>\n",
              "      <td>1</td>\n",
              "      <td>1</td>\n",
              "      <td>141</td>\n",
              "      <td>0</td>\n",
              "      <td>3.4</td>\n",
              "      <td>1</td>\n",
              "      <td>2</td>\n",
              "      <td>3</td>\n",
              "      <td>0</td>\n",
              "    </tr>\n",
              "    <tr>\n",
              "      <th>301</th>\n",
              "      <td>57</td>\n",
              "      <td>1</td>\n",
              "      <td>0</td>\n",
              "      <td>130</td>\n",
              "      <td>131</td>\n",
              "      <td>0</td>\n",
              "      <td>1</td>\n",
              "      <td>115</td>\n",
              "      <td>1</td>\n",
              "      <td>1.2</td>\n",
              "      <td>1</td>\n",
              "      <td>1</td>\n",
              "      <td>3</td>\n",
              "      <td>0</td>\n",
              "    </tr>\n",
              "    <tr>\n",
              "      <th>302</th>\n",
              "      <td>57</td>\n",
              "      <td>0</td>\n",
              "      <td>1</td>\n",
              "      <td>130</td>\n",
              "      <td>236</td>\n",
              "      <td>0</td>\n",
              "      <td>0</td>\n",
              "      <td>174</td>\n",
              "      <td>0</td>\n",
              "      <td>0.0</td>\n",
              "      <td>1</td>\n",
              "      <td>1</td>\n",
              "      <td>2</td>\n",
              "      <td>0</td>\n",
              "    </tr>\n",
              "  </tbody>\n",
              "</table>\n",
              "</div>\n",
              "      <button class=\"colab-df-convert\" onclick=\"convertToInteractive('df-ac709188-dd2b-47d0-8fb7-550d48c41ea8')\"\n",
              "              title=\"Convert this dataframe to an interactive table.\"\n",
              "              style=\"display:none;\">\n",
              "        \n",
              "  <svg xmlns=\"http://www.w3.org/2000/svg\" height=\"24px\"viewBox=\"0 0 24 24\"\n",
              "       width=\"24px\">\n",
              "    <path d=\"M0 0h24v24H0V0z\" fill=\"none\"/>\n",
              "    <path d=\"M18.56 5.44l.94 2.06.94-2.06 2.06-.94-2.06-.94-.94-2.06-.94 2.06-2.06.94zm-11 1L8.5 8.5l.94-2.06 2.06-.94-2.06-.94L8.5 2.5l-.94 2.06-2.06.94zm10 10l.94 2.06.94-2.06 2.06-.94-2.06-.94-.94-2.06-.94 2.06-2.06.94z\"/><path d=\"M17.41 7.96l-1.37-1.37c-.4-.4-.92-.59-1.43-.59-.52 0-1.04.2-1.43.59L10.3 9.45l-7.72 7.72c-.78.78-.78 2.05 0 2.83L4 21.41c.39.39.9.59 1.41.59.51 0 1.02-.2 1.41-.59l7.78-7.78 2.81-2.81c.8-.78.8-2.07 0-2.86zM5.41 20L4 18.59l7.72-7.72 1.47 1.35L5.41 20z\"/>\n",
              "  </svg>\n",
              "      </button>\n",
              "      \n",
              "  <style>\n",
              "    .colab-df-container {\n",
              "      display:flex;\n",
              "      flex-wrap:wrap;\n",
              "      gap: 12px;\n",
              "    }\n",
              "\n",
              "    .colab-df-convert {\n",
              "      background-color: #E8F0FE;\n",
              "      border: none;\n",
              "      border-radius: 50%;\n",
              "      cursor: pointer;\n",
              "      display: none;\n",
              "      fill: #1967D2;\n",
              "      height: 32px;\n",
              "      padding: 0 0 0 0;\n",
              "      width: 32px;\n",
              "    }\n",
              "\n",
              "    .colab-df-convert:hover {\n",
              "      background-color: #E2EBFA;\n",
              "      box-shadow: 0px 1px 2px rgba(60, 64, 67, 0.3), 0px 1px 3px 1px rgba(60, 64, 67, 0.15);\n",
              "      fill: #174EA6;\n",
              "    }\n",
              "\n",
              "    [theme=dark] .colab-df-convert {\n",
              "      background-color: #3B4455;\n",
              "      fill: #D2E3FC;\n",
              "    }\n",
              "\n",
              "    [theme=dark] .colab-df-convert:hover {\n",
              "      background-color: #434B5C;\n",
              "      box-shadow: 0px 1px 3px 1px rgba(0, 0, 0, 0.15);\n",
              "      filter: drop-shadow(0px 1px 2px rgba(0, 0, 0, 0.3));\n",
              "      fill: #FFFFFF;\n",
              "    }\n",
              "  </style>\n",
              "\n",
              "      <script>\n",
              "        const buttonEl =\n",
              "          document.querySelector('#df-ac709188-dd2b-47d0-8fb7-550d48c41ea8 button.colab-df-convert');\n",
              "        buttonEl.style.display =\n",
              "          google.colab.kernel.accessAllowed ? 'block' : 'none';\n",
              "\n",
              "        async function convertToInteractive(key) {\n",
              "          const element = document.querySelector('#df-ac709188-dd2b-47d0-8fb7-550d48c41ea8');\n",
              "          const dataTable =\n",
              "            await google.colab.kernel.invokeFunction('convertToInteractive',\n",
              "                                                     [key], {});\n",
              "          if (!dataTable) return;\n",
              "\n",
              "          const docLinkHtml = 'Like what you see? Visit the ' +\n",
              "            '<a target=\"_blank\" href=https://colab.research.google.com/notebooks/data_table.ipynb>data table notebook</a>'\n",
              "            + ' to learn more about interactive tables.';\n",
              "          element.innerHTML = '';\n",
              "          dataTable['output_type'] = 'display_data';\n",
              "          await google.colab.output.renderOutput(dataTable, element);\n",
              "          const docLink = document.createElement('div');\n",
              "          docLink.innerHTML = docLinkHtml;\n",
              "          element.appendChild(docLink);\n",
              "        }\n",
              "      </script>\n",
              "    </div>\n",
              "  </div>\n",
              "  "
            ]
          },
          "metadata": {},
          "execution_count": 19
        }
      ]
    },
    {
      "cell_type": "code",
      "source": [
        "new_data=pd.DataFrame({'age':1,'sex':2,'cp':3,'trtbps':4,'chol':5,'fbs':6,'restecg':7,'thalachh':8,'exng':9,'oldpeak':10,'slp':11,'caa':12,'thall':13},index=['1'])\n",
        "print(new_data)"
      ],
      "metadata": {
        "colab": {
          "base_uri": "https://localhost:8080/"
        },
        "id": "mzvu6MduJcEr",
        "outputId": "79b5995d-bb05-4a3b-8789-d0b4a03c3cb7"
      },
      "execution_count": 27,
      "outputs": [
        {
          "output_type": "stream",
          "name": "stdout",
          "text": [
            "   age  sex  cp  trtbps  chol  fbs  restecg  thalachh  exng  oldpeak  slp  \\\n",
            "1    1    2   3       4     5    6        7         8     9       10   11   \n",
            "\n",
            "   caa  thall  \n",
            "1   12     13  \n"
          ]
        }
      ]
    },
    {
      "cell_type": "code",
      "source": [
        "predictions=ln.predict(new_data)\n",
        "print(predictions)\n"
      ],
      "metadata": {
        "colab": {
          "base_uri": "https://localhost:8080/"
        },
        "id": "Vatfz03eLvWy",
        "outputId": "a7127801-8fd1-4292-c2b3-73a35af7a340"
      },
      "execution_count": 28,
      "outputs": [
        {
          "output_type": "stream",
          "name": "stdout",
          "text": [
            "[-2.80710116]\n"
          ]
        }
      ]
    }
  ]
}